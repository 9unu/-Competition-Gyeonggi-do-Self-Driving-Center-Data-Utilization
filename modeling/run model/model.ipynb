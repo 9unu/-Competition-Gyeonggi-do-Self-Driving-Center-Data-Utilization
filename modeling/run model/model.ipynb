{
 "cells": [
  {
   "cell_type": "markdown",
   "metadata": {},
   "source": [
    "#### 시간 기록 시작"
   ]
  },
  {
   "cell_type": "code",
   "execution_count": null,
   "metadata": {},
   "outputs": [],
   "source": [
    "import time # time 라이브러리 import\n",
    "start = time.time() # 시작"
   ]
  },
  {
   "cell_type": "markdown",
   "metadata": {},
   "source": [
    "# (1) 도로별 trian, test set 로드"
   ]
  },
  {
   "cell_type": "code",
   "execution_count": null,
   "metadata": {},
   "outputs": [],
   "source": [
    "import pandas as pd\n",
    "train_1_1=pd.read_csv('cctv_1_도로1_train.csv')\n",
    "test_1_1=pd.read_csv('cctv_1_도로1_test.csv')\n",
    "\n",
    "train_1_2=pd.read_csv('cctv_1_도로2_train.csv')\n",
    "test_1_2=pd.read_csv('cctv_1_도로2_test.csv')\n",
    "\n",
    "train_2_1=pd.read_csv('cctv_2_도로1_train.csv')\n",
    "test_2_1=pd.read_csv('cctv_2_도로1_test.csv')\n",
    "\n",
    "train_2_2=pd.read_csv('cctv_2_도로2_train.csv')\n",
    "test_2_2=pd.read_csv('cctv_2_도로2_test.csv')\n",
    "\n",
    "train_3_1=pd.read_csv('cctv_3_도로1_train.csv')\n",
    "test_3_1=pd.read_csv('cctv_3_도로1_test.csv')\n",
    "\n",
    "train_3_2=pd.read_csv('cctv_3_도로2_train.csv')\n",
    "test_3_2=pd.read_csv('cctv_3_도로2_test.csv')"
   ]
  },
  {
   "cell_type": "code",
   "execution_count": null,
   "metadata": {},
   "outputs": [],
   "source": [
    "print(\"CCTV_1_도로1\")\n",
    "print(\"학습 데이터 수:\",len(train_1_1),\"테스트 데이터 수:\", len(test_1_1))\n",
    "print(\"CCTV_1_도로2\")\n",
    "print(\"학습 데이터 수:\",len(train_1_2),\"테스트 데이터 수:\", len(test_1_2))\n",
    "print(\"CCTV_2_도로1\")\n",
    "print(\"학습 데이터 수:\",len(train_2_1),\"테스트 데이터 수:\", len(test_2_1))\n",
    "print(\"CCTV_2_도로2\")\n",
    "print(\"학습 데이터 수:\",len(train_2_2),\"테스트 데이터 수:\", len(test_2_2))\n",
    "print(\"CCTV_3_도로1\")\n",
    "print(\"학습 데이터 수:\",len(train_3_1),\"테스트 데이터 수:\", len(test_2_2))\n",
    "print(\"CCTV_3_도로2\")\n",
    "print(\"학습 데이터 수:\",len(train_3_2),\"테스트 데이터 수:\", len(test_3_2))"
   ]
  },
  {
   "cell_type": "markdown",
   "metadata": {},
   "source": [
    "# (2) 도로별 분류 모델 로드"
   ]
  },
  {
   "cell_type": "code",
   "execution_count": null,
   "metadata": {},
   "outputs": [],
   "source": [
    "import pickle\n",
    "\n",
    "with open('cctv_1_1.pkl', 'rb') as model_file:\n",
    "    cctv_1_1 = pickle.load(model_file)\n",
    "    \n",
    "with open('cctv_1_2.pkl', 'rb') as model_file:\n",
    "    cctv_1_2 = pickle.load(model_file)\n",
    "    \n",
    "with open('cctv_2_1.pkl', 'rb') as model_file:\n",
    "    cctv_2_1 = pickle.load(model_file)\n",
    "    \n",
    "with open('cctv_3_1.pkl', 'rb') as model_file:\n",
    "    cctv_3_1 = pickle.load(model_file)\n",
    "    \n",
    "with open('cctv_3_2.pkl', 'rb') as model_file:\n",
    "    cctv_3_2 = pickle.load(model_file)"
   ]
  },
  {
   "cell_type": "markdown",
   "metadata": {},
   "source": [
    "# (3) 도로별 test set에 대한 예측 수행"
   ]
  },
  {
   "cell_type": "markdown",
   "metadata": {},
   "source": [
    "## <도로 1>"
   ]
  },
  {
   "cell_type": "markdown",
   "metadata": {},
   "source": [
    "### CCTV1_도로1"
   ]
  },
  {
   "cell_type": "code",
   "execution_count": null,
   "metadata": {},
   "outputs": [],
   "source": [
    "test_1_1=test_1_1[['mean', 'max', 'min','Congestion_level','prev_mean', 'prev_min', 'prev_max']] #,"
   ]
  },
  {
   "cell_type": "code",
   "execution_count": null,
   "metadata": {},
   "outputs": [],
   "source": [
    "X_test=test_1_1.drop(\"Congestion_level\", axis=1)\n",
    "y_pred_1_1 = cctv_1_1.predict(X_test)"
   ]
  },
  {
   "cell_type": "code",
   "execution_count": null,
   "metadata": {},
   "outputs": [],
   "source": [
    "X_test.columns"
   ]
  },
  {
   "cell_type": "markdown",
   "metadata": {},
   "source": [
    "### CCTV2_도로1"
   ]
  },
  {
   "cell_type": "code",
   "execution_count": null,
   "metadata": {},
   "outputs": [],
   "source": [
    "test_2_1=test_2_1[['mean', 'max', 'min','Congestion_level','prev_mean', 'prev_min', 'prev_max']] #,"
   ]
  },
  {
   "cell_type": "code",
   "execution_count": null,
   "metadata": {},
   "outputs": [],
   "source": [
    "from sklearn.preprocessing import MinMaxScaler\n",
    "\n",
    "continuous_col=['mean', 'max', 'min', 'prev_mean', 'prev_min', 'prev_max']\n",
    "\n",
    "# 모델링용 최종 데이터셋\n",
    "scaler = MinMaxScaler()\n",
    "test_2_1[continuous_col] = scaler.fit_transform(test_2_1[continuous_col])"
   ]
  },
  {
   "cell_type": "code",
   "execution_count": null,
   "metadata": {},
   "outputs": [],
   "source": [
    "X_test=test_2_1.drop(\"Congestion_level\", axis=1)"
   ]
  },
  {
   "cell_type": "code",
   "execution_count": null,
   "metadata": {},
   "outputs": [],
   "source": [
    "y_pred_2_1 = cctv_2_1.predict(X_test)"
   ]
  },
  {
   "cell_type": "markdown",
   "metadata": {},
   "source": [
    "### CCTV 3_도로1"
   ]
  },
  {
   "cell_type": "code",
   "execution_count": null,
   "metadata": {},
   "outputs": [],
   "source": [
    "test_3_1=test_3_1[['mean', 'max', 'min','Congestion_level','prev_mean', 'prev_min', 'prev_max']]\n",
    "test_3_1=test_3_1.drop(\"Congestion_level\", axis=1)"
   ]
  },
  {
   "cell_type": "code",
   "execution_count": null,
   "metadata": {},
   "outputs": [],
   "source": [
    "y_pred_3_1 = cctv_3_1.predict(test_3_1)"
   ]
  },
  {
   "cell_type": "markdown",
   "metadata": {},
   "source": [
    "## <도로 2>"
   ]
  },
  {
   "cell_type": "markdown",
   "metadata": {},
   "source": [
    "### CCTV_1_도로2"
   ]
  },
  {
   "cell_type": "code",
   "execution_count": null,
   "metadata": {},
   "outputs": [],
   "source": [
    "test_1_2=test_1_2[['mean', 'max', 'min','Congestion_level','IncreaseorNot']]\n",
    "test_1_2=test_1_2.drop(\"Congestion_level\", axis=1)"
   ]
  },
  {
   "cell_type": "code",
   "execution_count": null,
   "metadata": {},
   "outputs": [],
   "source": [
    "from sklearn.preprocessing import MinMaxScaler\n",
    "\n",
    "continuous_col=['mean', 'max', 'min', 'IncreaseorNot']\n",
    "\n",
    "# 모델링용 최종 데이터셋\n",
    "scaler = MinMaxScaler()\n",
    "test_1_2[continuous_col] = scaler.fit_transform(test_1_2[continuous_col])"
   ]
  },
  {
   "cell_type": "code",
   "execution_count": null,
   "metadata": {},
   "outputs": [],
   "source": [
    "y_pred_1_2 = cctv_1_2.predict(test_1_2)"
   ]
  },
  {
   "cell_type": "markdown",
   "metadata": {},
   "source": [
    "### CCTV_2_도로2"
   ]
  },
  {
   "cell_type": "code",
   "execution_count": null,
   "metadata": {},
   "outputs": [],
   "source": [
    "test_2_2=test_2_2[['mean', 'max', 'min','Congestion_level','IncreaseorNot']]\n",
    "test_2_2=test_2_2.drop(\"Congestion_level\", axis=1)"
   ]
  },
  {
   "cell_type": "code",
   "execution_count": null,
   "metadata": {},
   "outputs": [],
   "source": [
    "y_pred_2_2=cctv_3_2.predict(test_2_2)"
   ]
  },
  {
   "cell_type": "markdown",
   "metadata": {},
   "source": [
    "### CCTV_3_도로2"
   ]
  },
  {
   "cell_type": "code",
   "execution_count": null,
   "metadata": {},
   "outputs": [],
   "source": [
    "test_3_2=test_3_2[['mean', 'max', 'min','Congestion_level','IncreaseorNot']]\n",
    "test_3_2=test_3_2.drop(\"Congestion_level\", axis=1)"
   ]
  },
  {
   "cell_type": "code",
   "execution_count": null,
   "metadata": {},
   "outputs": [],
   "source": [
    "y_pred_3_2 = cctv_3_2.predict(test_3_2)"
   ]
  },
  {
   "cell_type": "markdown",
   "metadata": {},
   "source": [
    "# (4) 최종 제출 데이터셋 생성"
   ]
  },
  {
   "cell_type": "code",
   "execution_count": null,
   "metadata": {},
   "outputs": [],
   "source": [
    "import pandas as pd\n",
    "train_1_1=pd.read_csv('cctv_1_도로1_train.csv')\n",
    "test_1_1=pd.read_csv('cctv_1_도로1_test.csv')\n",
    "\n",
    "train_1_2=pd.read_csv('cctv_1_도로2_train.csv')\n",
    "test_1_2=pd.read_csv('cctv_1_도로2_test.csv')\n",
    "\n",
    "train_2_1=pd.read_csv('cctv_2_도로1_train.csv')\n",
    "test_2_1=pd.read_csv('cctv_2_도로1_test.csv')\n",
    "\n",
    "train_2_2=pd.read_csv('cctv_2_도로2_train.csv')\n",
    "test_2_2=pd.read_csv('cctv_2_도로2_test.csv')\n",
    "\n",
    "train_3_1=pd.read_csv('cctv_3_도로1_train.csv')\n",
    "test_3_1=pd.read_csv('cctv_3_도로1_test.csv')\n",
    "\n",
    "train_3_2=pd.read_csv('cctv_3_도로2_train.csv')\n",
    "test_3_2=pd.read_csv('cctv_3_도로2_test.csv')"
   ]
  },
  {
   "cell_type": "code",
   "execution_count": null,
   "metadata": {},
   "outputs": [],
   "source": [
    "total_1_1=pd.concat([train_1_1,test_1_1],axis=0)\n",
    "total_1_1 = total_1_1.sort_values(by='Unnamed: 0')\n",
    "submit_1_1 = total_1_1.copy()\n",
    "submit_1_1['Congestion_level'].fillna(pd.Series(y_pred_1_1.flatten()), inplace=True)\n",
    "\n",
    "total_1_2=pd.concat([train_1_2,test_1_2],axis=0)\n",
    "total_1_2 = total_1_2.sort_values(by='Unnamed: 0')\n",
    "submit_1_2 = total_1_2.copy()\n",
    "submit_1_2['Congestion_level'].fillna(pd.Series(y_pred_1_2.flatten()), inplace=True)\n",
    "\n",
    "total_2_1=pd.concat([train_2_1,test_2_1],axis=0)\n",
    "total_2_1 = total_2_1.sort_values(by='Unnamed: 0')\n",
    "submit_2_1 = total_2_1.copy()\n",
    "submit_2_1['Congestion_level'].fillna(pd.Series(y_pred_2_1.flatten()), inplace=True)\n",
    "\n",
    "total_2_2=pd.concat([train_2_2,test_2_2],axis=0)\n",
    "total_2_2 = total_2_2.sort_values(by='Unnamed: 0')\n",
    "submit_2_2 = total_2_2.copy()\n",
    "submit_2_2['Congestion_level'].fillna(pd.Series(y_pred_2_2.flatten()), inplace=True)\n",
    "\n",
    "total_3_1=pd.concat([train_3_1,test_3_1],axis=0)\n",
    "total_3_1 = total_3_1.sort_values(by='Unnamed: 0')\n",
    "submit_3_1 = total_3_1.copy()\n",
    "submit_3_1['Congestion_level'].fillna(pd.Series(y_pred_3_1.flatten()), inplace=True)\n",
    "\n",
    "total_3_2=pd.concat([train_3_2,test_3_2],axis=0)\n",
    "total_3_2 = total_3_2.sort_values(by='Unnamed: 0')\n",
    "submit_3_2 = total_3_2.copy()\n",
    "submit_3_2['Congestion_level'].fillna(pd.Series(y_pred_3_2.flatten()), inplace=True)\n"
   ]
  },
  {
   "cell_type": "code",
   "execution_count": null,
   "metadata": {},
   "outputs": [],
   "source": [
    "submit_1_1 = submit_1_1.reset_index(drop=True)\n",
    "submit_1_2 = submit_1_2.reset_index(drop=True)\n",
    "submit_2_1 = submit_2_1.reset_index(drop=True)\n",
    "submit_2_2 = submit_2_2.reset_index(drop=True)\n",
    "submit_3_1 = submit_3_1.reset_index(drop=True)\n",
    "submit_3_2 = submit_3_2.reset_index(drop=True)\n"
   ]
  },
  {
   "cell_type": "code",
   "execution_count": null,
   "metadata": {},
   "outputs": [],
   "source": [
    "last_submit = pd.concat([submit_1_1['Congestion_level'], submit_1_2['Congestion_level'], \n",
    "                        submit_2_1['Congestion_level'], submit_2_2['Congestion_level'], \n",
    "                        submit_3_1['Congestion_level'], submit_3_2['Congestion_level']], axis=1)\n"
   ]
  },
  {
   "cell_type": "code",
   "execution_count": null,
   "metadata": {},
   "outputs": [],
   "source": [
    "last_submit.head()"
   ]
  },
  {
   "cell_type": "code",
   "execution_count": null,
   "metadata": {},
   "outputs": [],
   "source": [
    "last_submit.to_csv(\"제출용.csv\", index=False)"
   ]
  },
  {
   "cell_type": "markdown",
   "metadata": {},
   "source": [
    "## 소요 시간"
   ]
  },
  {
   "cell_type": "code",
   "execution_count": null,
   "metadata": {},
   "outputs": [],
   "source": [
    "print(f\"{time.time()-start:.4f} sec\")"
   ]
  }
 ],
 "metadata": {
  "kernelspec": {
   "display_name": "keras_gpu",
   "language": "python",
   "name": "keras_gpu"
  },
  "language_info": {
   "codemirror_mode": {
    "name": "ipython",
    "version": 3
   },
   "file_extension": ".py",
   "mimetype": "text/x-python",
   "name": "python",
   "nbconvert_exporter": "python",
   "pygments_lexer": "ipython3",
   "version": "3.7.12"
  }
 },
 "nbformat": 4,
 "nbformat_minor": 2
}
