{
 "cells": [
  {
   "cell_type": "code",
   "execution_count": 3,
   "metadata": {},
   "outputs": [],
   "source": [
    "import cv2\n",
    "import numpy as np\n",
    "import os"
   ]
  },
  {
   "cell_type": "code",
   "execution_count": 1,
   "metadata": {},
   "outputs": [
    {
     "name": "stdout",
     "output_type": "stream",
     "text": [
      "Saved: test0.jpg\n",
      "Saved: test1.jpg\n",
      "Saved: test2.jpg\n",
      "Saved: test3.jpg\n",
      "Saved: test4.jpg\n",
      "Saved: test5.jpg\n",
      "Saved: test6.jpg\n",
      "Saved: test7.jpg\n",
      "Saved: test8.jpg\n",
      "Saved: test9.jpg\n"
     ]
    }
   ],
   "source": [
    "import cv2\n",
    "video_path=\"CCTV_1_61.mp4\"\n",
    "video = cv2.VideoCapture(video_path)\n",
    "fps = int(video.get(cv2.CAP_PROP_FPS))\n",
    "frame_count = int(video.get(cv2.CAP_PROP_FRAME_COUNT))\n",
    "\n",
    "for i in range(frame_count):\n",
    "    ret, frame = video.read()\n",
    "    if ret and i % fps == 0:  # 초당 한 프레임 저장\n",
    "        name = f\"test{i//20}.jpg\"\n",
    "        image_path = name  \n",
    "        cv2.imwrite(image_path, frame)\n",
    "        print(f\"Saved: {image_path}\")\n",
    "\n",
    "video.release()"
   ]
  }
 ],
 "metadata": {
  "kernelspec": {
   "display_name": "Python 3",
   "language": "python",
   "name": "python3"
  },
  "language_info": {
   "codemirror_mode": {
    "name": "ipython",
    "version": 3
   },
   "file_extension": ".py",
   "mimetype": "text/x-python",
   "name": "python",
   "nbconvert_exporter": "python",
   "pygments_lexer": "ipython3",
   "version": "3.11.6"
  }
 },
 "nbformat": 4,
 "nbformat_minor": 2
}
