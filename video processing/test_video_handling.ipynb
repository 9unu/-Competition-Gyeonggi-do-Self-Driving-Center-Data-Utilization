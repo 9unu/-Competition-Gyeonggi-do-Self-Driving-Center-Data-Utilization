{
 "cells": [
  {
   "cell_type": "code",
   "execution_count": 1,
   "metadata": {},
   "outputs": [
    {
     "name": "stdout",
     "output_type": "stream",
     "text": [
      "importing Jupyter notebook from function_file.ipynb\n"
     ]
    }
   ],
   "source": [
    "import import_ipynb\n",
    "from function_file import *\n",
    "import os\n",
    "import numpy as np\n",
    "import cv2"
   ]
  },
  {
   "cell_type": "markdown",
   "metadata": {},
   "source": [
    "# 1. test data set Load"
   ]
  },
  {
   "cell_type": "code",
   "execution_count": 2,
   "metadata": {},
   "outputs": [],
   "source": [
    "folder_path= \"test\" # 원본 test 영상 폴더 위치\n",
    "file_list=[]\n",
    "for filename in os.listdir(folder_path):\n",
    "    file_list.append(filename)"
   ]
  },
  {
   "cell_type": "code",
   "execution_count": 3,
   "metadata": {},
   "outputs": [
    {
     "name": "stdout",
     "output_type": "stream",
     "text": [
      "['CCTV_1_1.mp4', 'CCTV_1_12.mp4', 'CCTV_1_14.mp4', 'CCTV_1_15.mp4', 'CCTV_1_21.mp4', 'CCTV_1_24.mp4', 'CCTV_1_26.mp4', 'CCTV_1_28.mp4', 'CCTV_1_3.mp4', 'CCTV_1_34.mp4', 'CCTV_1_37.mp4', 'CCTV_1_4.mp4', 'CCTV_1_40.mp4', 'CCTV_1_41.mp4', 'CCTV_1_53.mp4', 'CCTV_1_54.mp4', 'CCTV_1_55.mp4', 'CCTV_1_57.mp4', 'CCTV_1_66.mp4', 'CCTV_1_67.mp4', 'CCTV_1_70.mp4', 'CCTV_1_74.mp4', 'CCTV_1_77.mp4', 'CCTV_1_78.mp4', 'CCTV_1_79.mp4', 'CCTV_1_8.mp4', 'CCTV_1_90.mp4', 'CCTV_2_11.mp4', 'CCTV_2_12.mp4', 'CCTV_2_16.mp4', 'CCTV_2_25.mp4', 'CCTV_2_32.mp4', 'CCTV_2_34.mp4', 'CCTV_2_39.mp4', 'CCTV_2_40.mp4', 'CCTV_2_42.mp4', 'CCTV_2_45.mp4', 'CCTV_2_46.mp4', 'CCTV_2_51.mp4', 'CCTV_2_52.mp4', 'CCTV_2_53.mp4', 'CCTV_2_57.mp4', 'CCTV_2_6.mp4', 'CCTV_2_61.mp4', 'CCTV_2_65.mp4', 'CCTV_2_7.mp4', 'CCTV_2_70.mp4', 'CCTV_2_71.mp4', 'CCTV_2_76.mp4', 'CCTV_2_80.mp4', 'CCTV_2_85.mp4', 'CCTV_2_87.mp4', 'CCTV_2_88.mp4', 'CCTV_3_1.mp4', 'CCTV_3_11.mp4', 'CCTV_3_12.mp4', 'CCTV_3_2.mp4', 'CCTV_3_23.mp4', 'CCTV_3_27.mp4', 'CCTV_3_30.mp4', 'CCTV_3_31.mp4', 'CCTV_3_33.mp4', 'CCTV_3_37.mp4', 'CCTV_3_40.mp4', 'CCTV_3_43.mp4', 'CCTV_3_44.mp4', 'CCTV_3_49.mp4', 'CCTV_3_52.mp4', 'CCTV_3_54.mp4', 'CCTV_3_55.mp4', 'CCTV_3_58.mp4', 'CCTV_3_62.mp4', 'CCTV_3_70.mp4', 'CCTV_3_72.mp4', 'CCTV_3_79.mp4', 'CCTV_3_80.mp4', 'CCTV_3_81.mp4', 'CCTV_3_85.mp4', 'CCTV_3_88.mp4', 'CCTV_3_9.mp4', 'CCTV_3_90.mp4']\n"
     ]
    }
   ],
   "source": [
    "print(file_list)"
   ]
  },
  {
   "cell_type": "markdown",
   "metadata": {},
   "source": [
    "# 2. CCTV마다 영상 이름 리스트 생성"
   ]
  },
  {
   "cell_type": "code",
   "execution_count": 4,
   "metadata": {},
   "outputs": [],
   "source": [
    "CCTV_1=[]\n",
    "CCTV_2=[]\n",
    "CCTV_3=[]\n",
    "for i in file_list:\n",
    "    if(\"CCTV_1\" in i):\n",
    "        CCTV_1.append(i)\n",
    "    elif(\"CCTV_2\" in i):\n",
    "        CCTV_2.append(i)\n",
    "    else:\n",
    "        CCTV_3.append(i)"
   ]
  },
  {
   "cell_type": "markdown",
   "metadata": {},
   "source": [
    "# 3. CCTV마다 새로운 폴더 만들고 영상 옮기기"
   ]
  },
  {
   "cell_type": "code",
   "execution_count": 5,
   "metadata": {},
   "outputs": [],
   "source": [
    "test_CCTV_1_folder=\"test\\CCTV_1\"    # CCTV_1 test 영상 넣을 폴더\n",
    "test_CCTV_2_folder=\"test\\CCTV_2\"    # CCTV_2 test 영상 넣을 폴더\n",
    "test_CCTV_3_folder=\"test\\CCTV_3\"    # CCTV_3 test 영상 넣을 폴더\n",
    "\n",
    "os.makedirs(test_CCTV_1_folder, exist_ok=True)\n",
    "os.makedirs(test_CCTV_2_folder, exist_ok=True)\n",
    "os.makedirs(test_CCTV_3_folder, exist_ok=True)"
   ]
  },
  {
   "cell_type": "code",
   "execution_count": 6,
   "metadata": {},
   "outputs": [],
   "source": [
    "test_CCTV_list=[test_CCTV_1_folder,test_CCTV_2_folder,test_CCTV_3_folder]\n",
    "CCTV_file_list=[CCTV_1,CCTV_2,CCTV_3]"
   ]
  },
  {
   "cell_type": "code",
   "execution_count": 7,
   "metadata": {},
   "outputs": [],
   "source": [
    "video_folder_shift(folder_path, test_CCTV_1_folder, CCTV_1)\n",
    "video_folder_shift(folder_path, test_CCTV_2_folder, CCTV_2)\n",
    "video_folder_shift(folder_path, test_CCTV_3_folder, CCTV_3)"
   ]
  },
  {
   "cell_type": "markdown",
   "metadata": {},
   "source": [
    "# 1. CCTV의 도로마다 ROI추출 및 해당 영역 확대"
   ]
  },
  {
   "cell_type": "markdown",
   "metadata": {},
   "source": [
    "### CCTV 별 도로별 patagon_points\n"
   ]
  },
  {
   "cell_type": "code",
   "execution_count": 2,
   "metadata": {},
   "outputs": [],
   "source": [
    "# CCTV 1_도로1\n",
    "pentagon_points_1_1 = np.array([[80, 380], [792,138], [1358, 97], [1270, 181], [820, 380]], np.int32)\n",
    "\n",
    "# CCTV 1_도로2\n",
    "pentagon_points_1_2 = np.array([[880,361], [1290, 160], [1360, 66], [1414, 85], [1544, 380]], np.int32)\n",
    "\n",
    "# CCTV2_ 도로1\n",
    "pentagon_points_2_1 = np.array([[860, 146], [1918, 200], [1918, 390], [1015, 361], [860, 266]], np.int32)\n",
    "\n",
    "# CCTV2_도로2\n",
    "pentagon_points_2_2 = np.array([[280, 413], [1133, 324], [1918, 349],[1918, 570],[1210, 805],[280, 413]], np.int32)\n",
    "\n",
    "# CCTV3_도로1\n",
    "pentagon_points_3_1 = np.array([[390, 0], [545,0], [786, 20], [1020, 95],[626, 114]], np.int32)\n",
    "\n",
    "# cctv3_도로2\n",
    "pentagon_points_3_2 = np.array([[575, 0], [820,0], [1349, 112], [1140, 132]], np.int32)"
   ]
  },
  {
   "cell_type": "markdown",
   "metadata": {},
   "source": [
    "### CCTV 1_도로1\n"
   ]
  },
  {
   "cell_type": "code",
   "execution_count": 10,
   "metadata": {},
   "outputs": [
    {
     "name": "stdout",
     "output_type": "stream",
     "text": [
      "폴더 내 모든 파일 변환\n"
     ]
    }
   ],
   "source": [
    "folder_path= \"CCTV별 영상 데이터\\test\\CCTV_1\"\n",
    "result_folder= \"CCTV별 도로별 영상 데이터(test)\\CCTV_1\\도로1\"\n",
    "\n",
    "file_list=[]\n",
    "pentagon_points=pentagon_points_1_1\n",
    "# 결과 영상을 저장할 폴더가 없으면 생성\n",
    "os.makedirs(result_folder, exist_ok=True)\n",
    "\n",
    "# 대상 파일 리스트를 지정하지 않은 경우 폴더의 모든 파일을 file_list로 저장\n",
    "if(len(file_list)==0):\n",
    "    print(\"폴더 내 모든 파일 변환\")\n",
    "    for filename in os.listdir(folder_path):\n",
    "        file_list.append(filename)\n",
    "\n",
    "for filename in file_list:\n",
    "    video_path=os.path.join(folder_path,filename)\n",
    "    cap = cv2.VideoCapture(video_path)\n",
    "\n",
    "    # 원본 영상 가로, 세로 범위 저장\n",
    "    frame_width = int(cap.get(3))\n",
    "    frame_height = int(cap.get(4))\n",
    "\n",
    "    # 원본 영상 프레임 속도 저장\n",
    "    original_fps = int(cap.get(cv2.CAP_PROP_FPS))\n",
    "\n",
    "    # 지정한 영역 포인트를 open cv로 넣기 위해 3차원 배열로 변환함\n",
    "    pentagon_points = pentagon_points.reshape((-1, 1, 2))\n",
    "    \n",
    "    # 결과 영상 codec\n",
    "    fourcc=cv2.VideoWriter_fourcc(*'mp4v')\n",
    "    # 결과 영상 저장 경로\n",
    "    output_path=os.path.join(result_folder, filename)\n",
    "    out = cv2.VideoWriter(output_path, fourcc, original_fps, (frame_width, frame_height))\n",
    "    while True:\n",
    "        ret, frame = cap.read()\n",
    "\n",
    "        if not ret:\n",
    "            break\n",
    "\n",
    "        # 자를 영역 mask 생성\n",
    "        mask = np.zeros_like(frame, dtype=np.uint8)\n",
    "        cv2.fillPoly(mask, [pentagon_points], (255, 255, 255))\n",
    "\n",
    "        # Generate the result by combining the frame and mask\n",
    "        result = cv2.bitwise_and(frame, mask)\n",
    "\n",
    "        # 결과 영상에 잘린 영역 덮어쓰기\n",
    "        out.write(result)\n",
    "\n",
    "        # 결과물 출력\n",
    "        # cv2.imshow('Processed Frame', result)\n",
    "\n",
    "        # 루프 종료 (q누르면)\n",
    "        if cv2.waitKey(1) & 0xFF == ord('q'):\n",
    "            break\n",
    "\n",
    "    # 비디오 객체 종료\n",
    "    cap.release()\n",
    "    out.release()\n",
    "\n",
    "    # 모든 cv2 창 제거\n",
    "cv2.destroyAllWindows()\n"
   ]
  },
  {
   "cell_type": "markdown",
   "metadata": {},
   "source": [
    "### CCTV 1_도로2"
   ]
  },
  {
   "cell_type": "code",
   "execution_count": 11,
   "metadata": {},
   "outputs": [
    {
     "name": "stdout",
     "output_type": "stream",
     "text": [
      "폴더 내 모든 파일 변환\n"
     ]
    }
   ],
   "source": [
    "folder_path= \"CCTV별 영상 데이터\\test\\CCTV_1\"\n",
    "result_folder= \"CCTV별 도로별 영상 데이터(test)\\CCTV_1\\도로2\"\n",
    "\n",
    "file_list=[]\n",
    "\n",
    "pentagon_points=pentagon_points_1_2\n",
    "# 결과 영상을 저장할 폴더가 없으면 생성\n",
    "os.makedirs(result_folder, exist_ok=True)\n",
    "\n",
    "# 대상 파일 리스트를 지정하지 않은 경우 폴더의 모든 파일을 file_list로 저장\n",
    "if(len(file_list)==0):\n",
    "    print(\"폴더 내 모든 파일 변환\")\n",
    "    for filename in os.listdir(folder_path):\n",
    "        file_list.append(filename)\n",
    "\n",
    "for filename in file_list:\n",
    "    video_path=os.path.join(folder_path,filename)\n",
    "    cap = cv2.VideoCapture(video_path)\n",
    "\n",
    "    # 원본 영상 가로, 세로 범위 저장\n",
    "    frame_width = int(cap.get(3))\n",
    "    frame_height = int(cap.get(4))\n",
    "\n",
    "    # 원본 영상 프레임 속도 저장\n",
    "    original_fps = int(cap.get(cv2.CAP_PROP_FPS))\n",
    "\n",
    "    # 지정한 영역 포인트를 open cv로 넣기 위해 3차원 배열로 변환함\n",
    "    pentagon_points = pentagon_points.reshape((-1, 1, 2))\n",
    "    \n",
    "    # 결과 영상 codec\n",
    "    fourcc=cv2.VideoWriter_fourcc(*'mp4v')\n",
    "    # 결과 영상 저장 경로\n",
    "    output_path=os.path.join(result_folder, filename)\n",
    "    out = cv2.VideoWriter(output_path, fourcc, original_fps, (frame_width, frame_height))\n",
    "    while True:\n",
    "        ret, frame = cap.read()\n",
    "\n",
    "        if not ret:\n",
    "            break\n",
    "\n",
    "        # 자를 영역 mask 생성\n",
    "        mask = np.zeros_like(frame, dtype=np.uint8)\n",
    "        cv2.fillPoly(mask, [pentagon_points], (255, 255, 255))\n",
    "\n",
    "        # Generate the result by combining the frame and mask\n",
    "        result = cv2.bitwise_and(frame, mask)\n",
    "\n",
    "        # 결과 영상에 잘린 영역 덮어쓰기\n",
    "        out.write(result)\n",
    "\n",
    "        # 결과물 출력\n",
    "        # cv2.imshow('Processed Frame', result)\n",
    "\n",
    "        # 루프 종료 (q누르면)\n",
    "        if cv2.waitKey(1) & 0xFF == ord('q'):\n",
    "            break\n",
    "\n",
    "    # 비디오 객체 종료\n",
    "    cap.release()\n",
    "    out.release()\n",
    "\n",
    "    # 모든 cv2 창 제거\n",
    "cv2.destroyAllWindows()"
   ]
  },
  {
   "cell_type": "markdown",
   "metadata": {},
   "source": [
    "### CCTV 2_도로1\n"
   ]
  },
  {
   "cell_type": "code",
   "execution_count": 12,
   "metadata": {},
   "outputs": [
    {
     "name": "stdout",
     "output_type": "stream",
     "text": [
      "폴더 내 모든 파일 변환\n"
     ]
    }
   ],
   "source": [
    "folder_path= \"CCTV별 영상 데이터\\test\\CCTV_2\"\n",
    "result_folder= \"CCTV별 도로별 영상 데이터(test)\\CCTV_2\\도로1\"\n",
    "\n",
    "pentagon_points=pentagon_points_2_1\n",
    "\n",
    "\n",
    "file_list=[]\n",
    "# 결과 영상을 저장할 폴더가 없으면 생성\n",
    "os.makedirs(result_folder, exist_ok=True)\n",
    "\n",
    "# 대상 파일 리스트를 지정하지 않은 경우 폴더의 모든 파일을 file_list로 저장\n",
    "if(len(file_list)==0):\n",
    "    print(\"폴더 내 모든 파일 변환\")\n",
    "    for filename in os.listdir(folder_path):\n",
    "        file_list.append(filename)\n",
    "\n",
    "for filename in file_list:\n",
    "    video_path=os.path.join(folder_path,filename)\n",
    "    cap = cv2.VideoCapture(video_path)\n",
    "\n",
    "    # 원본 영상 가로, 세로 범위 저장\n",
    "    frame_width = int(cap.get(3))\n",
    "    frame_height = int(cap.get(4))\n",
    "\n",
    "    # 원본 영상 프레임 속도 저장\n",
    "    original_fps = int(cap.get(cv2.CAP_PROP_FPS))\n",
    "\n",
    "    # 지정한 영역 포인트를 open cv로 넣기 위해 3차원 배열로 변환함\n",
    "    pentagon_points = pentagon_points.reshape((-1, 1, 2))\n",
    "    \n",
    "    # 결과 영상 codec\n",
    "    fourcc=cv2.VideoWriter_fourcc(*'mp4v')\n",
    "    # 결과 영상 저장 경로\n",
    "    output_path=os.path.join(result_folder, filename)\n",
    "    out = cv2.VideoWriter(output_path, fourcc, original_fps, (frame_width, frame_height))\n",
    "    while True:\n",
    "        ret, frame = cap.read()\n",
    "\n",
    "        if not ret:\n",
    "            break\n",
    "\n",
    "        # 자를 영역 mask 생성\n",
    "        mask = np.zeros_like(frame, dtype=np.uint8)\n",
    "        cv2.fillPoly(mask, [pentagon_points], (255, 255, 255))\n",
    "\n",
    "        # Generate the result by combining the frame and mask\n",
    "        result = cv2.bitwise_and(frame, mask)\n",
    "\n",
    "        # 결과 영상에 잘린 영역 덮어쓰기\n",
    "        out.write(result)\n",
    "\n",
    "        # 결과물 출력\n",
    "        # cv2.imshow('Processed Frame', result)\n",
    "\n",
    "        # 루프 종료 (q누르면)\n",
    "        if cv2.waitKey(1) & 0xFF == ord('q'):\n",
    "            break\n",
    "\n",
    "    # 비디오 객체 종료\n",
    "    cap.release()\n",
    "    out.release()\n",
    "\n",
    "    # 모든 cv2 창 제거\n",
    "cv2.destroyAllWindows()\n"
   ]
  },
  {
   "cell_type": "markdown",
   "metadata": {},
   "source": [
    "### CCTV 2_도로2\n"
   ]
  },
  {
   "cell_type": "code",
   "execution_count": 13,
   "metadata": {},
   "outputs": [
    {
     "name": "stdout",
     "output_type": "stream",
     "text": [
      "폴더 내 모든 파일 변환\n"
     ]
    }
   ],
   "source": [
    "folder_path= \"CCTV별 영상 데이터\\test\\CCTV_2\"\n",
    "result_folder= \"CCTV별 도로별 영상 데이터(test)\\CCTV_2\\도로2\"\n",
    "\n",
    "pentagon_points=pentagon_points_2_2\n",
    "\n",
    "\n",
    "file_list=[]\n",
    "# 결과 영상을 저장할 폴더가 없으면 생성\n",
    "os.makedirs(result_folder, exist_ok=True)\n",
    "\n",
    "# 대상 파일 리스트를 지정하지 않은 경우 폴더의 모든 파일을 file_list로 저장\n",
    "if(len(file_list)==0):\n",
    "    print(\"폴더 내 모든 파일 변환\")\n",
    "    for filename in os.listdir(folder_path):\n",
    "        file_list.append(filename)\n",
    "\n",
    "for filename in file_list:\n",
    "    video_path=os.path.join(folder_path,filename)\n",
    "    cap = cv2.VideoCapture(video_path)\n",
    "\n",
    "    # 원본 영상 가로, 세로 범위 저장\n",
    "    frame_width = int(cap.get(3))\n",
    "    frame_height = int(cap.get(4))\n",
    "\n",
    "    # 원본 영상 프레임 속도 저장\n",
    "    original_fps = int(cap.get(cv2.CAP_PROP_FPS))\n",
    "\n",
    "    # 지정한 영역 포인트를 open cv로 넣기 위해 3차원 배열로 변환함\n",
    "    pentagon_points = pentagon_points.reshape((-1, 1, 2))\n",
    "    \n",
    "    # 결과 영상 codec\n",
    "    fourcc=cv2.VideoWriter_fourcc(*'mp4v')\n",
    "    # 결과 영상 저장 경로\n",
    "    output_path=os.path.join(result_folder, filename)\n",
    "    out = cv2.VideoWriter(output_path, fourcc, original_fps, (frame_width, frame_height))\n",
    "    while True:\n",
    "        ret, frame = cap.read()\n",
    "\n",
    "        if not ret:\n",
    "            break\n",
    "\n",
    "        # 자를 영역 mask 생성\n",
    "        mask = np.zeros_like(frame, dtype=np.uint8)\n",
    "        cv2.fillPoly(mask, [pentagon_points], (255, 255, 255))\n",
    "\n",
    "        # Generate the result by combining the frame and mask\n",
    "        result = cv2.bitwise_and(frame, mask)\n",
    "\n",
    "        # 결과 영상에 잘린 영역 덮어쓰기\n",
    "        out.write(result)\n",
    "\n",
    "        # 결과물 출력\n",
    "        # cv2.imshow('Processed Frame', result)\n",
    "\n",
    "        # 루프 종료 (q누르면)\n",
    "        if cv2.waitKey(1) & 0xFF == ord('q'):\n",
    "            break\n",
    "\n",
    "    # 비디오 객체 종료\n",
    "    cap.release()\n",
    "    out.release()\n",
    "\n",
    "    # 모든 cv2 창 제거\n",
    "cv2.destroyAllWindows()"
   ]
  },
  {
   "cell_type": "markdown",
   "metadata": {},
   "source": [
    "### CCTV 3_도로1\n"
   ]
  },
  {
   "cell_type": "code",
   "execution_count": 14,
   "metadata": {},
   "outputs": [
    {
     "name": "stdout",
     "output_type": "stream",
     "text": [
      "폴더 내 모든 파일 변환\n"
     ]
    }
   ],
   "source": [
    "folder_path= \"CCTV별 영상 데이터\\test\\CCTV_3\"\n",
    "result_folder= \"CCTV별 도로별 영상 데이터(test)\\CCTV_3\\도로1\"\n",
    "\n",
    "pentagon_points=pentagon_points_3_1\n",
    "\n",
    "\n",
    "file_list=[]\n",
    "# 결과 영상을 저장할 폴더가 없으면 생성\n",
    "os.makedirs(result_folder, exist_ok=True)\n",
    "\n",
    "# 대상 파일 리스트를 지정하지 않은 경우 폴더의 모든 파일을 file_list로 저장\n",
    "if(len(file_list)==0):\n",
    "    print(\"폴더 내 모든 파일 변환\")\n",
    "    for filename in os.listdir(folder_path):\n",
    "        file_list.append(filename)\n",
    "\n",
    "for filename in file_list:\n",
    "    video_path=os.path.join(folder_path,filename)\n",
    "    cap = cv2.VideoCapture(video_path)\n",
    "\n",
    "    # 원본 영상 가로, 세로 범위 저장\n",
    "    frame_width = int(cap.get(3))\n",
    "    frame_height = int(cap.get(4))\n",
    "\n",
    "    # 원본 영상 프레임 속도 저장\n",
    "    original_fps = int(cap.get(cv2.CAP_PROP_FPS))\n",
    "\n",
    "    # 지정한 영역 포인트를 open cv로 넣기 위해 3차원 배열로 변환함\n",
    "    pentagon_points = pentagon_points.reshape((-1, 1, 2))\n",
    "    \n",
    "    # 결과 영상 codec\n",
    "    fourcc=cv2.VideoWriter_fourcc(*'mp4v')\n",
    "    # 결과 영상 저장 경로\n",
    "    output_path=os.path.join(result_folder, filename)\n",
    "    out = cv2.VideoWriter(output_path, fourcc, original_fps, (frame_width, frame_height))\n",
    "    while True:\n",
    "        ret, frame = cap.read()\n",
    "\n",
    "        if not ret:\n",
    "            break\n",
    "\n",
    "        # 자를 영역 mask 생성\n",
    "        mask = np.zeros_like(frame, dtype=np.uint8)\n",
    "        cv2.fillPoly(mask, [pentagon_points], (255, 255, 255))\n",
    "\n",
    "        # Generate the result by combining the frame and mask\n",
    "        result = cv2.bitwise_and(frame, mask)\n",
    "\n",
    "        # 결과 영상에 잘린 영역 덮어쓰기\n",
    "        out.write(result)\n",
    "\n",
    "        # 결과물 출력\n",
    "        # cv2.imshow('Processed Frame', result)\n",
    "\n",
    "        # 루프 종료 (q누르면)\n",
    "        if cv2.waitKey(1) & 0xFF == ord('q'):\n",
    "            break\n",
    "\n",
    "    # 비디오 객체 종료\n",
    "    cap.release()\n",
    "    out.release()\n",
    "\n",
    "    # 모든 cv2 창 제거\n",
    "cv2.destroyAllWindows()"
   ]
  },
  {
   "cell_type": "markdown",
   "metadata": {},
   "source": [
    "### CCTV 3_도로2\n"
   ]
  },
  {
   "cell_type": "code",
   "execution_count": 15,
   "metadata": {},
   "outputs": [
    {
     "name": "stdout",
     "output_type": "stream",
     "text": [
      "폴더 내 모든 파일 변환\n"
     ]
    }
   ],
   "source": [
    "folder_path= \"CCTV별 영상 데이터\\test\\CCTV_3\"\n",
    "result_folder= \"CCTV별 도로별 영상 데이터(test)\\CCTV_3\\도로2\"\n",
    "\n",
    "pentagon_points=pentagon_points_3_2\n",
    "\n",
    "\n",
    "file_list=[]\n",
    "# 결과 영상을 저장할 폴더가 없으면 생성\n",
    "os.makedirs(result_folder, exist_ok=True)\n",
    "\n",
    "# 대상 파일 리스트를 지정하지 않은 경우 폴더의 모든 파일을 file_list로 저장\n",
    "if(len(file_list)==0):\n",
    "    print(\"폴더 내 모든 파일 변환\")\n",
    "    for filename in os.listdir(folder_path):\n",
    "        file_list.append(filename)\n",
    "\n",
    "for filename in file_list:\n",
    "    video_path=os.path.join(folder_path,filename)\n",
    "    cap = cv2.VideoCapture(video_path)\n",
    "\n",
    "    # 원본 영상 가로, 세로 범위 저장\n",
    "    frame_width = int(cap.get(3))\n",
    "    frame_height = int(cap.get(4))\n",
    "\n",
    "    # 원본 영상 프레임 속도 저장\n",
    "    original_fps = int(cap.get(cv2.CAP_PROP_FPS))\n",
    "\n",
    "    # 지정한 영역 포인트를 open cv로 넣기 위해 3차원 배열로 변환함\n",
    "    pentagon_points = pentagon_points.reshape((-1, 1, 2))\n",
    "    \n",
    "    # 결과 영상 codec\n",
    "    fourcc=cv2.VideoWriter_fourcc(*'mp4v')\n",
    "    # 결과 영상 저장 경로\n",
    "    output_path=os.path.join(result_folder, filename)\n",
    "    out = cv2.VideoWriter(output_path, fourcc, original_fps, (frame_width, frame_height))\n",
    "    while True:\n",
    "        ret, frame = cap.read()\n",
    "\n",
    "        if not ret:\n",
    "            break\n",
    "\n",
    "        # 자를 영역 mask 생성\n",
    "        mask = np.zeros_like(frame, dtype=np.uint8)\n",
    "        cv2.fillPoly(mask, [pentagon_points], (255, 255, 255))\n",
    "\n",
    "        # Generate the result by combining the frame and mask\n",
    "        result = cv2.bitwise_and(frame, mask)\n",
    "\n",
    "        # 결과 영상에 잘린 영역 덮어쓰기\n",
    "        out.write(result)\n",
    "\n",
    "        # 결과물 출력\n",
    "        # cv2.imshow('Processed Frame', result)\n",
    "\n",
    "        # 루프 종료 (q누르면)\n",
    "        if cv2.waitKey(1) & 0xFF == ord('q'):\n",
    "            break\n",
    "\n",
    "    # 비디오 객체 종료\n",
    "    cap.release()\n",
    "    out.release()\n",
    "\n",
    "    # 모든 cv2 창 제거\n",
    "cv2.destroyAllWindows()"
   ]
  },
  {
   "cell_type": "markdown",
   "metadata": {},
   "source": [
    "# 2. ROI 부분 확대"
   ]
  },
  {
   "cell_type": "code",
   "execution_count": 4,
   "metadata": {},
   "outputs": [
    {
     "name": "stdout",
     "output_type": "stream",
     "text": [
      "폴더 생성\n",
      "폴더내의 모든 파일 변환\n"
     ]
    }
   ],
   "source": [
    "folder_path= \"CCTV별 도로별 영상 데이터(test)\\CCTV_1\\도로1\"\n",
    "result_folder= \"CCTV별 도로별 영상 ROI 확대 데이터(test)\\CCTV_1\\도로1\"\n",
    "pentagon_points=pentagon_points_1_1\n",
    "\n",
    "file_list=[]\n",
    "x = np.min(pentagon_points[:, 0])\n",
    "y = np.min(pentagon_points[:, 1])\n",
    "width = np.max(pentagon_points[:, 0]) - x\n",
    "height = np.max(pentagon_points[:, 1]) - y\n",
    "\n",
    "# 결과 영상을 저장할 폴더가 없으면 생성\n",
    "os.makedirs(result_folder, exist_ok=False)\n",
    "print(\"폴더 생성\")\n",
    "# 대상 파일 리스트를 지정하지 않은 경우 폴더의 모든 파일을 file_list로 저장\n",
    "if(len(file_list)==0):\n",
    "    print(\"폴더내의 모든 파일 변환\")\n",
    "    for filename in os.listdir(folder_path):\n",
    "        file_list.append(filename)\n",
    "\n",
    "for filename in file_list:\n",
    "    video_path=os.path.join(folder_path,filename)\n",
    "    cap = cv2.VideoCapture(video_path)\n",
    "\n",
    "    frame_rate = cap.get(cv2.CAP_PROP_FPS)\n",
    "    output_path=os.path.join(result_folder, filename)\n",
    "    fourcc = cv2.VideoWriter_fourcc(*'mp4v')\n",
    "    out = cv2.VideoWriter(output_path, fourcc, frame_rate, (width, height))\n",
    "\n",
    "    # 영상 프레임 읽어와서 처리하기\n",
    "    while True:\n",
    "        ret, frame = cap.read()\n",
    "        if not ret:\n",
    "            break\n",
    "        \n",
    "        # 영상에서 ROI 자르기\n",
    "        cropped_frame = frame[y:y+height, x:x+width]\n",
    "        \n",
    "        # 자른 프레임 저장\n",
    "        out.write(cropped_frame)\n",
    "        \n",
    "        # 자른 프레임 화면에 표시하기 (optional)\n",
    "        # cv2.imshow('Cropped Frame', cropped_frame)\n",
    "        \n",
    "        # 'q' 키를 누르면 종료\n",
    "        if cv2.waitKey(1) & 0xFF == ord('q'):\n",
    "            break\n",
    "\n",
    "    # 사용한 리소스 해제\n",
    "    cap.release()\n",
    "    out.release()\n",
    "    cv2.destroyAllWindows()"
   ]
  },
  {
   "cell_type": "code",
   "execution_count": 5,
   "metadata": {},
   "outputs": [
    {
     "name": "stdout",
     "output_type": "stream",
     "text": [
      "폴더 생성\n",
      "폴더내의 모든 파일 변환\n"
     ]
    }
   ],
   "source": [
    "folder_path= \"CCTV별 도로별 영상 데이터(test)\\CCTV_1\\도로2\"\n",
    "result_folder= \"CCTV별 도로별 영상 ROI 확대 데이터(test)\\CCTV_1\\도로2\"\n",
    "\n",
    "pentagon_points=pentagon_points_1_2\n",
    "\n",
    "file_list=[]\n",
    "x = np.min(pentagon_points[:, 0])\n",
    "y = np.min(pentagon_points[:, 1])\n",
    "width = np.max(pentagon_points[:, 0]) - x\n",
    "height = np.max(pentagon_points[:, 1]) - y\n",
    "\n",
    "# 결과 영상을 저장할 폴더가 없으면 생성\n",
    "os.makedirs(result_folder, exist_ok=False)\n",
    "print(\"폴더 생성\")\n",
    "# 대상 파일 리스트를 지정하지 않은 경우 폴더의 모든 파일을 file_list로 저장\n",
    "if(len(file_list)==0):\n",
    "    print(\"폴더내의 모든 파일 변환\")\n",
    "    for filename in os.listdir(folder_path):\n",
    "        file_list.append(filename)\n",
    "\n",
    "for filename in file_list:\n",
    "    video_path=os.path.join(folder_path,filename)\n",
    "    cap = cv2.VideoCapture(video_path)\n",
    "\n",
    "    frame_rate = cap.get(cv2.CAP_PROP_FPS)\n",
    "    output_path=os.path.join(result_folder, filename)\n",
    "    fourcc = cv2.VideoWriter_fourcc(*'mp4v')\n",
    "    out = cv2.VideoWriter(output_path, fourcc, frame_rate, (width, height))\n",
    "\n",
    "    # 영상 프레임 읽어와서 처리하기\n",
    "    while True:\n",
    "        ret, frame = cap.read()\n",
    "        if not ret:\n",
    "            break\n",
    "        \n",
    "        # 영상에서 ROI 자르기\n",
    "        cropped_frame = frame[y:y+height, x:x+width]\n",
    "        \n",
    "        # 자른 프레임 저장\n",
    "        out.write(cropped_frame)\n",
    "        \n",
    "        # 자른 프레임 화면에 표시하기 (optional)\n",
    "        # cv2.imshow('Cropped Frame', cropped_frame)\n",
    "        \n",
    "        # 'q' 키를 누르면 종료\n",
    "        if cv2.waitKey(1) & 0xFF == ord('q'):\n",
    "            break\n",
    "\n",
    "    # 사용한 리소스 해제\n",
    "    cap.release()\n",
    "    out.release()\n",
    "    cv2.destroyAllWindows()"
   ]
  },
  {
   "cell_type": "code",
   "execution_count": 6,
   "metadata": {},
   "outputs": [
    {
     "name": "stdout",
     "output_type": "stream",
     "text": [
      "폴더 생성\n",
      "폴더내의 모든 파일 변환\n"
     ]
    }
   ],
   "source": [
    "folder_path= \"CCTV별 도로별 영상 데이터(test)\\CCTV_2\\도로1\"\n",
    "result_folder= \"CCTV별 도로별 영상 ROI 확대 데이터(test)\\CCTV_2\\도로1\"\n",
    "\n",
    "pentagon_points=pentagon_points_2_1\n",
    "\n",
    "file_list=[]\n",
    "x = np.min(pentagon_points[:, 0])\n",
    "y = np.min(pentagon_points[:, 1])\n",
    "width = np.max(pentagon_points[:, 0]) - x\n",
    "height = np.max(pentagon_points[:, 1]) - y\n",
    "\n",
    "# 결과 영상을 저장할 폴더가 없으면 생성\n",
    "os.makedirs(result_folder, exist_ok=False)\n",
    "print(\"폴더 생성\")\n",
    "# 대상 파일 리스트를 지정하지 않은 경우 폴더의 모든 파일을 file_list로 저장\n",
    "if(len(file_list)==0):\n",
    "    print(\"폴더내의 모든 파일 변환\")\n",
    "    for filename in os.listdir(folder_path):\n",
    "        file_list.append(filename)\n",
    "\n",
    "for filename in file_list:\n",
    "    video_path=os.path.join(folder_path,filename)\n",
    "    cap = cv2.VideoCapture(video_path)\n",
    "\n",
    "    frame_rate = cap.get(cv2.CAP_PROP_FPS)\n",
    "    output_path=os.path.join(result_folder, filename)\n",
    "    fourcc = cv2.VideoWriter_fourcc(*'mp4v')\n",
    "    out = cv2.VideoWriter(output_path, fourcc, frame_rate, (width, height))\n",
    "\n",
    "    # 영상 프레임 읽어와서 처리하기\n",
    "    while True:\n",
    "        ret, frame = cap.read()\n",
    "        if not ret:\n",
    "            break\n",
    "        \n",
    "        # 영상에서 ROI 자르기\n",
    "        cropped_frame = frame[y:y+height, x:x+width]\n",
    "        \n",
    "        # 자른 프레임 저장\n",
    "        out.write(cropped_frame)\n",
    "        \n",
    "        # 자른 프레임 화면에 표시하기 (optional)\n",
    "        # cv2.imshow('Cropped Frame', cropped_frame)\n",
    "        \n",
    "        # 'q' 키를 누르면 종료\n",
    "        if cv2.waitKey(1) & 0xFF == ord('q'):\n",
    "            break\n",
    "\n",
    "    # 사용한 리소스 해제\n",
    "    cap.release()\n",
    "    out.release()\n",
    "    cv2.destroyAllWindows()"
   ]
  },
  {
   "cell_type": "code",
   "execution_count": 7,
   "metadata": {},
   "outputs": [
    {
     "name": "stdout",
     "output_type": "stream",
     "text": [
      "폴더 생성\n",
      "폴더내의 모든 파일 변환\n"
     ]
    }
   ],
   "source": [
    "folder_path= \"CCTV별 도로별 영상 데이터(test)\\CCTV_2\\도로2\"\n",
    "result_folder= \"CCTV별 도로별 영상 ROI 확대 데이터(test)\\CCTV_2\\도로2\"\n",
    "\n",
    "pentagon_points=pentagon_points_2_2\n",
    "\n",
    "file_list=[]\n",
    "x = np.min(pentagon_points[:, 0])\n",
    "y = np.min(pentagon_points[:, 1])\n",
    "width = np.max(pentagon_points[:, 0]) - x\n",
    "height = np.max(pentagon_points[:, 1]) - y\n",
    "\n",
    "# 결과 영상을 저장할 폴더가 없으면 생성\n",
    "os.makedirs(result_folder, exist_ok=False)\n",
    "print(\"폴더 생성\")\n",
    "# 대상 파일 리스트를 지정하지 않은 경우 폴더의 모든 파일을 file_list로 저장\n",
    "if(len(file_list)==0):\n",
    "    print(\"폴더내의 모든 파일 변환\")\n",
    "    for filename in os.listdir(folder_path):\n",
    "        file_list.append(filename)\n",
    "\n",
    "for filename in file_list:\n",
    "    video_path=os.path.join(folder_path,filename)\n",
    "    cap = cv2.VideoCapture(video_path)\n",
    "\n",
    "    frame_rate = cap.get(cv2.CAP_PROP_FPS)\n",
    "    output_path=os.path.join(result_folder, filename)\n",
    "    fourcc = cv2.VideoWriter_fourcc(*'mp4v')\n",
    "    out = cv2.VideoWriter(output_path, fourcc, frame_rate, (width, height))\n",
    "\n",
    "    # 영상 프레임 읽어와서 처리하기\n",
    "    while True:\n",
    "        ret, frame = cap.read()\n",
    "        if not ret:\n",
    "            break\n",
    "        \n",
    "        # 영상에서 ROI 자르기\n",
    "        cropped_frame = frame[y:y+height, x:x+width]\n",
    "        \n",
    "        # 자른 프레임 저장\n",
    "        out.write(cropped_frame)\n",
    "        \n",
    "        # 자른 프레임 화면에 표시하기 (optional)\n",
    "        # cv2.imshow('Cropped Frame', cropped_frame)\n",
    "        \n",
    "        # 'q' 키를 누르면 종료\n",
    "        if cv2.waitKey(1) & 0xFF == ord('q'):\n",
    "            break\n",
    "\n",
    "    # 사용한 리소스 해제\n",
    "    cap.release()\n",
    "    out.release()\n",
    "    cv2.destroyAllWindows()"
   ]
  },
  {
   "cell_type": "code",
   "execution_count": 8,
   "metadata": {},
   "outputs": [
    {
     "name": "stdout",
     "output_type": "stream",
     "text": [
      "폴더 생성\n",
      "폴더내의 모든 파일 변환\n"
     ]
    }
   ],
   "source": [
    "folder_path= \"CCTV별 도로별 영상 데이터(test)\\CCTV_3\\도로1\"\n",
    "result_folder= \"CCTV별 도로별 영상 ROI 확대 데이터(test)\\CCTV_3\\도로1\"\n",
    "\n",
    "pentagon_points=pentagon_points_3_1\n",
    "\n",
    "file_list=[]\n",
    "x = np.min(pentagon_points[:, 0])\n",
    "y = np.min(pentagon_points[:, 1])\n",
    "width = np.max(pentagon_points[:, 0]) - x\n",
    "height = np.max(pentagon_points[:, 1]) - y\n",
    "\n",
    "# 결과 영상을 저장할 폴더가 없으면 생성\n",
    "os.makedirs(result_folder, exist_ok=False)\n",
    "print(\"폴더 생성\")\n",
    "# 대상 파일 리스트를 지정하지 않은 경우 폴더의 모든 파일을 file_list로 저장\n",
    "if(len(file_list)==0):\n",
    "    print(\"폴더내의 모든 파일 변환\")\n",
    "    for filename in os.listdir(folder_path):\n",
    "        file_list.append(filename)\n",
    "\n",
    "for filename in file_list:\n",
    "    video_path=os.path.join(folder_path,filename)\n",
    "    cap = cv2.VideoCapture(video_path)\n",
    "\n",
    "    frame_rate = cap.get(cv2.CAP_PROP_FPS)\n",
    "    output_path=os.path.join(result_folder, filename)\n",
    "    fourcc = cv2.VideoWriter_fourcc(*'mp4v')\n",
    "    out = cv2.VideoWriter(output_path, fourcc, frame_rate, (width, height))\n",
    "\n",
    "    # 영상 프레임 읽어와서 처리하기\n",
    "    while True:\n",
    "        ret, frame = cap.read()\n",
    "        if not ret:\n",
    "            break\n",
    "        \n",
    "        # 영상에서 ROI 자르기\n",
    "        cropped_frame = frame[y:y+height, x:x+width]\n",
    "        \n",
    "        # 자른 프레임 저장\n",
    "        out.write(cropped_frame)\n",
    "        \n",
    "        # 자른 프레임 화면에 표시하기 (optional)\n",
    "        # cv2.imshow('Cropped Frame', cropped_frame)\n",
    "        \n",
    "        # 'q' 키를 누르면 종료\n",
    "        if cv2.waitKey(1) & 0xFF == ord('q'):\n",
    "            break\n",
    "\n",
    "    # 사용한 리소스 해제\n",
    "    cap.release()\n",
    "    out.release()\n",
    "    cv2.destroyAllWindows()"
   ]
  },
  {
   "cell_type": "code",
   "execution_count": null,
   "metadata": {},
   "outputs": [
    {
     "name": "stdout",
     "output_type": "stream",
     "text": [
      "폴더 생성\n",
      "폴더내의 모든 파일 변환\n"
     ]
    }
   ],
   "source": [
    "folder_path=\"CCTV별 도로별 영상 데이터(test)\\CCTV_3\\도로2\"\n",
    "result_folder=\"CCTV별 도로별 영상 ROI 확대 데이터(test)\\CCTV_3\\도로2\"\n",
    "\n",
    "pentagon_points=pentagon_points_3_2\n",
    "\n",
    "file_list=[]\n",
    "x = np.min(pentagon_points[:, 0])\n",
    "y = np.min(pentagon_points[:, 1])\n",
    "width = np.max(pentagon_points[:, 0]) - x\n",
    "height = np.max(pentagon_points[:, 1]) - y\n",
    "\n",
    "# 결과 영상을 저장할 폴더가 없으면 생성\n",
    "os.makedirs(result_folder, exist_ok=False)\n",
    "print(\"폴더 생성\")\n",
    "# 대상 파일 리스트를 지정하지 않은 경우 폴더의 모든 파일을 file_list로 저장\n",
    "if(len(file_list)==0):\n",
    "    print(\"폴더내의 모든 파일 변환\")\n",
    "    for filename in os.listdir(folder_path):\n",
    "        file_list.append(filename)\n",
    "\n",
    "for filename in file_list:\n",
    "    video_path=os.path.join(folder_path,filename)\n",
    "    cap = cv2.VideoCapture(video_path)\n",
    "\n",
    "    frame_rate = cap.get(cv2.CAP_PROP_FPS)\n",
    "    output_path=os.path.join(result_folder, filename)\n",
    "    fourcc = cv2.VideoWriter_fourcc(*'mp4v')\n",
    "    out = cv2.VideoWriter(output_path, fourcc, frame_rate, (width, height))\n",
    "\n",
    "    # 영상 프레임 읽어와서 처리하기\n",
    "    while True:\n",
    "        ret, frame = cap.read()\n",
    "        if not ret:\n",
    "            break\n",
    "        \n",
    "        # 영상에서 ROI 자르기\n",
    "        cropped_frame = frame[y:y+height, x:x+width]\n",
    "        \n",
    "        # 자른 프레임 저장\n",
    "        out.write(cropped_frame)\n",
    "        \n",
    "        # 자른 프레임 화면에 표시하기 (optional)\n",
    "        # cv2.imshow('Cropped Frame', cropped_frame)\n",
    "        \n",
    "        # 'q' 키를 누르면 종료\n",
    "        if cv2.waitKey(1) & 0xFF == ord('q'):\n",
    "            break\n",
    "\n",
    "    # 사용한 리소스 해제\n",
    "    cap.release()\n",
    "    out.release()\n",
    "    cv2.destroyAllWindows()"
   ]
  }
 ],
 "metadata": {
  "kernelspec": {
   "display_name": "Python 3",
   "language": "python",
   "name": "python3"
  },
  "language_info": {
   "codemirror_mode": {
    "name": "ipython",
    "version": 3
   },
   "file_extension": ".py",
   "mimetype": "text/x-python",
   "name": "python",
   "nbconvert_exporter": "python",
   "pygments_lexer": "ipython3",
   "version": "3.11.6"
  }
 },
 "nbformat": 4,
 "nbformat_minor": 2
}
