{
 "cells": [
  {
   "cell_type": "markdown",
   "metadata": {},
   "source": [
    "## Imports\n",
    "We have 3 important files for this purpose and each and every dependency, class, import, function, variable etc is being imported from these modules\n",
    "\n",
    "1. `detection_helpers` which I made to wrap the original `YOLOv-7` code along with helper functions\n",
    "2. `tracking_helpers` has modular code which is used to wrap the `DeepSORT` repo and workings\n",
    "3. `bridge_wrapper` acts as a bridge to bind **ANY** detection model with `DeepSORT`"
   ]
  },
  {
   "cell_type": "code",
   "execution_count": 1,
   "metadata": {},
   "outputs": [
    {
     "name": "stderr",
     "output_type": "stream",
     "text": [
      "/opt/homebrew/Caskroom/miniconda/base/envs/carenv/lib/python3.8/site-packages/tqdm/auto.py:21: TqdmWarning: IProgress not found. Please update jupyter and ipywidgets. See https://ipywidgets.readthedocs.io/en/stable/user_install.html\n",
      "  from .autonotebook import tqdm as notebook_tqdm\n"
     ]
    }
   ],
   "source": [
    "from detection_helpers import *\n",
    "from tracking_helpers import *\n",
    "from  bridge_wrapper2 import *\n",
    "from PIL import Image"
   ]
  },
  {
   "cell_type": "markdown",
   "metadata": {},
   "source": [
    "# Detection\n",
    "Detect objects using `Yolov-7`"
   ]
  },
  {
   "cell_type": "markdown",
   "metadata": {},
   "source": []
  },
  {
   "cell_type": "code",
   "execution_count": 8,
   "metadata": {},
   "outputs": [
    {
     "name": "stdout",
     "output_type": "stream",
     "text": [
      "Fusing layers... \n",
      " Convert model to Traced-model... \n",
      " traced_script_module saved! \n",
      " model is traced! \n",
      "\n"
     ]
    }
   ],
   "source": [
    "detector = Detector(classes = None) # it'll detect ONLY [person,horses,sports ball]. class = None means detect all classes. List info at: \"data/coco.yaml\"\n",
    "detector.load_model('./last.pt',) # pass the path to the trained weight file\n"
   ]
  },
  {
   "cell_type": "markdown",
   "metadata": {},
   "source": [
    "# Tracking\n",
    "\n",
    "Works as follows:\n",
    "1. Read each frame of video using `OpenCV`\n",
    "2. Get Bounding Box or Detections from the model per frame\n",
    "3. Crop those patches and pass on to `reID` model for re identification which is a part of `DeepSORT` method\n",
    "4. Get the above embeddings and then use `Kalman Filtering` and `Hungerian assignment` to assign the correct BB to the respective object\n",
    "5. Show, Save the frames"
   ]
  },
  {
   "cell_type": "code",
   "execution_count": 9,
   "metadata": {},
   "outputs": [
    {
     "name": "stderr",
     "output_type": "stream",
     "text": [
      "OpenCV: FFMPEG: tag 0x44495658/'XVID' is not supported with codec id 12 and format 'mp4 / MP4 (MPEG-4 Part 14)'\n",
      "OpenCV: FFMPEG: fallback to use tag 0x7634706d/'mp4v'\n"
     ]
    },
    {
     "name": "stdout",
     "output_type": "stream",
     "text": [
      "Processed frame no: 1 || Current FPS: 2.22 || Objects tracked: 7\n",
      "Processed frame no: 2 || Current FPS: 4.79 || Objects tracked: 6\n",
      "Processed frame no: 3 || Current FPS: 4.71 || Objects tracked: 6\n",
      "Processed frame no: 4 || Current FPS: 4.31 || Objects tracked: 7\n",
      "Processed frame no: 5 || Current FPS: 2.32 || Objects tracked: 7\n",
      "Processed frame no: 6 || Current FPS: 2.52 || Objects tracked: 7\n",
      "Processed frame no: 7 || Current FPS: 2.32 || Objects tracked: 7\n",
      "Processed frame no: 8 || Current FPS: 2.44 || Objects tracked: 7\n",
      "Processed frame no: 9 || Current FPS: 2.44 || Objects tracked: 7\n",
      "Processed frame no: 10 || Current FPS: 2.35 || Objects tracked: 7\n",
      "Processed frame no: 11 || Current FPS: 2.3 || Objects tracked: 7\n",
      "Processed frame no: 12 || Current FPS: 2.36 || Objects tracked: 7\n",
      "Processed frame no: 13 || Current FPS: 2.49 || Objects tracked: 7\n",
      "Processed frame no: 14 || Current FPS: 2.46 || Objects tracked: 7\n",
      "Processed frame no: 15 || Current FPS: 2.63 || Objects tracked: 7\n",
      "Processed frame no: 16 || Current FPS: 2.41 || Objects tracked: 7\n",
      "Processed frame no: 17 || Current FPS: 2.52 || Objects tracked: 7\n",
      "Processed frame no: 18 || Current FPS: 2.6 || Objects tracked: 7\n",
      "Processed frame no: 19 || Current FPS: 2.61 || Objects tracked: 7\n",
      "Processed frame no: 20 || Current FPS: 2.55 || Objects tracked: 7\n",
      "Processed frame no: 21 || Current FPS: 2.51 || Objects tracked: 7\n",
      "Processed frame no: 22 || Current FPS: 2.53 || Objects tracked: 7\n",
      "Processed frame no: 23 || Current FPS: 2.5 || Objects tracked: 7\n",
      "Processed frame no: 24 || Current FPS: 2.43 || Objects tracked: 7\n",
      "Processed frame no: 25 || Current FPS: 2.59 || Objects tracked: 7\n",
      "Processed frame no: 26 || Current FPS: 2.55 || Objects tracked: 7\n",
      "Processed frame no: 27 || Current FPS: 2.53 || Objects tracked: 7\n",
      "Processed frame no: 28 || Current FPS: 2.51 || Objects tracked: 7\n",
      "Processed frame no: 29 || Current FPS: 2.59 || Objects tracked: 7\n",
      "Processed frame no: 30 || Current FPS: 2.55 || Objects tracked: 7\n",
      "Processed frame no: 31 || Current FPS: 2.44 || Objects tracked: 7\n",
      "Processed frame no: 32 || Current FPS: 2.52 || Objects tracked: 7\n",
      "Processed frame no: 33 || Current FPS: 2.52 || Objects tracked: 7\n",
      "Processed frame no: 34 || Current FPS: 2.5 || Objects tracked: 7\n",
      "Processed frame no: 35 || Current FPS: 2.47 || Objects tracked: 7\n",
      "Processed frame no: 36 || Current FPS: 2.52 || Objects tracked: 7\n",
      "Processed frame no: 37 || Current FPS: 2.5 || Objects tracked: 7\n",
      "Processed frame no: 38 || Current FPS: 2.57 || Objects tracked: 7\n",
      "Processed frame no: 39 || Current FPS: 2.48 || Objects tracked: 7\n",
      "Processed frame no: 40 || Current FPS: 2.43 || Objects tracked: 7\n",
      "Processed frame no: 41 || Current FPS: 2.38 || Objects tracked: 7\n",
      "Processed frame no: 42 || Current FPS: 2.44 || Objects tracked: 7\n",
      "Processed frame no: 43 || Current FPS: 2.52 || Objects tracked: 7\n",
      "Processed frame no: 44 || Current FPS: 2.55 || Objects tracked: 7\n",
      "Processed frame no: 45 || Current FPS: 2.36 || Objects tracked: 7\n",
      "Processed frame no: 46 || Current FPS: 2.41 || Objects tracked: 7\n",
      "Processed frame no: 47 || Current FPS: 2.56 || Objects tracked: 7\n",
      "Processed frame no: 48 || Current FPS: 2.54 || Objects tracked: 7\n",
      "Processed frame no: 49 || Current FPS: 2.5 || Objects tracked: 7\n",
      "Processed frame no: 50 || Current FPS: 2.52 || Objects tracked: 7\n",
      "Processed frame no: 51 || Current FPS: 2.48 || Objects tracked: 7\n",
      "Processed frame no: 52 || Current FPS: 2.49 || Objects tracked: 7\n",
      "Processed frame no: 53 || Current FPS: 2.46 || Objects tracked: 7\n",
      "Processed frame no: 54 || Current FPS: 2.43 || Objects tracked: 7\n",
      "Processed frame no: 55 || Current FPS: 2.56 || Objects tracked: 7\n",
      "Processed frame no: 56 || Current FPS: 2.48 || Objects tracked: 7\n",
      "Processed frame no: 57 || Current FPS: 2.58 || Objects tracked: 7\n",
      "Processed frame no: 58 || Current FPS: 2.52 || Objects tracked: 7\n",
      "Processed frame no: 59 || Current FPS: 2.5 || Objects tracked: 7\n",
      "Processed frame no: 60 || Current FPS: 2.35 || Objects tracked: 7\n",
      "Processed frame no: 61 || Current FPS: 2.59 || Objects tracked: 6\n",
      "Processed frame no: 62 || Current FPS: 2.48 || Objects tracked: 6\n",
      "Processed frame no: 63 || Current FPS: 2.59 || Objects tracked: 7\n",
      "Processed frame no: 64 || Current FPS: 2.4 || Objects tracked: 7\n",
      "Processed frame no: 65 || Current FPS: 2.53 || Objects tracked: 7\n",
      "Processed frame no: 66 || Current FPS: 2.58 || Objects tracked: 6\n",
      "Processed frame no: 67 || Current FPS: 2.79 || Objects tracked: 6\n",
      "Processed frame no: 68 || Current FPS: 2.64 || Objects tracked: 6\n",
      "Processed frame no: 69 || Current FPS: 2.84 || Objects tracked: 6\n",
      "Processed frame no: 70 || Current FPS: 2.67 || Objects tracked: 6\n",
      "Processed frame no: 71 || Current FPS: 2.76 || Objects tracked: 6\n",
      "Processed frame no: 72 || Current FPS: 2.72 || Objects tracked: 7\n",
      "Processed frame no: 73 || Current FPS: 2.6 || Objects tracked: 7\n",
      "Processed frame no: 74 || Current FPS: 2.44 || Objects tracked: 7\n",
      "Processed frame no: 75 || Current FPS: 2.4 || Objects tracked: 7\n",
      "Processed frame no: 76 || Current FPS: 2.46 || Objects tracked: 7\n",
      "Processed frame no: 77 || Current FPS: 2.49 || Objects tracked: 7\n",
      "Processed frame no: 78 || Current FPS: 2.4 || Objects tracked: 7\n",
      "Processed frame no: 79 || Current FPS: 2.5 || Objects tracked: 7\n",
      "Processed frame no: 80 || Current FPS: 2.56 || Objects tracked: 6\n",
      "Processed frame no: 81 || Current FPS: 2.62 || Objects tracked: 7\n",
      "Processed frame no: 82 || Current FPS: 2.38 || Objects tracked: 7\n",
      "Processed frame no: 83 || Current FPS: 2.55 || Objects tracked: 7\n",
      "Processed frame no: 84 || Current FPS: 2.51 || Objects tracked: 7\n",
      "Processed frame no: 85 || Current FPS: 2.55 || Objects tracked: 7\n",
      "Processed frame no: 86 || Current FPS: 2.62 || Objects tracked: 7\n",
      "Processed frame no: 87 || Current FPS: 2.64 || Objects tracked: 7\n",
      "Processed frame no: 88 || Current FPS: 2.24 || Objects tracked: 7\n",
      "Processed frame no: 89 || Current FPS: 2.23 || Objects tracked: 7\n",
      "Processed frame no: 90 || Current FPS: 2.57 || Objects tracked: 7\n",
      "Processed frame no: 91 || Current FPS: 2.64 || Objects tracked: 7\n",
      "Processed frame no: 92 || Current FPS: 2.44 || Objects tracked: 7\n",
      "Processed frame no: 93 || Current FPS: 2.48 || Objects tracked: 7\n",
      "Processed frame no: 94 || Current FPS: 2.53 || Objects tracked: 7\n",
      "Processed frame no: 95 || Current FPS: 2.52 || Objects tracked: 7\n",
      "Processed frame no: 96 || Current FPS: 2.51 || Objects tracked: 7\n",
      "Processed frame no: 97 || Current FPS: 2.45 || Objects tracked: 7\n",
      "Processed frame no: 98 || Current FPS: 2.43 || Objects tracked: 7\n",
      "Processed frame no: 99 || Current FPS: 2.65 || Objects tracked: 7\n",
      "Processed frame no: 100 || Current FPS: 2.51 || Objects tracked: 7\n",
      "Processed frame no: 101 || Current FPS: 2.53 || Objects tracked: 7\n",
      "Processed frame no: 102 || Current FPS: 2.62 || Objects tracked: 7\n",
      "Processed frame no: 103 || Current FPS: 2.58 || Objects tracked: 7\n",
      "Processed frame no: 104 || Current FPS: 2.53 || Objects tracked: 7\n",
      "Processed frame no: 105 || Current FPS: 2.36 || Objects tracked: 7\n",
      "Processed frame no: 106 || Current FPS: 2.29 || Objects tracked: 7\n",
      "Processed frame no: 107 || Current FPS: 2.47 || Objects tracked: 7\n",
      "Processed frame no: 108 || Current FPS: 2.38 || Objects tracked: 7\n",
      "Processed frame no: 109 || Current FPS: 2.51 || Objects tracked: 6\n",
      "Processed frame no: 110 || Current FPS: 2.53 || Objects tracked: 6\n",
      "Processed frame no: 111 || Current FPS: 2.57 || Objects tracked: 6\n",
      "Processed frame no: 112 || Current FPS: 2.47 || Objects tracked: 6\n",
      "Processed frame no: 113 || Current FPS: 2.48 || Objects tracked: 6\n",
      "Processed frame no: 114 || Current FPS: 2.54 || Objects tracked: 6\n",
      "Processed frame no: 115 || Current FPS: 2.4 || Objects tracked: 6\n",
      "Processed frame no: 116 || Current FPS: 2.45 || Objects tracked: 6\n",
      "Processed frame no: 117 || Current FPS: 2.51 || Objects tracked: 6\n",
      "Processed frame no: 118 || Current FPS: 2.68 || Objects tracked: 6\n",
      "Processed frame no: 119 || Current FPS: 2.75 || Objects tracked: 6\n",
      "Processed frame no: 120 || Current FPS: 2.65 || Objects tracked: 6\n",
      "Processed frame no: 121 || Current FPS: 2.6 || Objects tracked: 7\n",
      "Processed frame no: 122 || Current FPS: 2.54 || Objects tracked: 6\n",
      "Processed frame no: 123 || Current FPS: 2.71 || Objects tracked: 6\n",
      "Processed frame no: 124 || Current FPS: 2.73 || Objects tracked: 6\n",
      "Processed frame no: 125 || Current FPS: 2.78 || Objects tracked: 6\n",
      "Processed frame no: 126 || Current FPS: 2.65 || Objects tracked: 7\n",
      "Processed frame no: 127 || Current FPS: 2.57 || Objects tracked: 7\n",
      "Processed frame no: 128 || Current FPS: 2.6 || Objects tracked: 6\n",
      "Processed frame no: 129 || Current FPS: 2.71 || Objects tracked: 7\n",
      "Processed frame no: 130 || Current FPS: 2.44 || Objects tracked: 7\n",
      "Processed frame no: 131 || Current FPS: 2.5 || Objects tracked: 7\n",
      "Processed frame no: 132 || Current FPS: 2.54 || Objects tracked: 7\n",
      "Processed frame no: 133 || Current FPS: 2.46 || Objects tracked: 7\n",
      "Processed frame no: 134 || Current FPS: 2.48 || Objects tracked: 7\n",
      "Processed frame no: 135 || Current FPS: 2.54 || Objects tracked: 6\n",
      "Processed frame no: 136 || Current FPS: 2.8 || Objects tracked: 6\n",
      "Processed frame no: 137 || Current FPS: 2.7 || Objects tracked: 6\n",
      "Processed frame no: 138 || Current FPS: 2.63 || Objects tracked: 6\n",
      "Processed frame no: 139 || Current FPS: 2.77 || Objects tracked: 6\n",
      "Processed frame no: 140 || Current FPS: 2.62 || Objects tracked: 7\n",
      "Processed frame no: 141 || Current FPS: 2.44 || Objects tracked: 6\n",
      "Processed frame no: 142 || Current FPS: 2.77 || Objects tracked: 6\n",
      "Processed frame no: 143 || Current FPS: 2.81 || Objects tracked: 6\n",
      "Processed frame no: 144 || Current FPS: 2.63 || Objects tracked: 7\n",
      "Processed frame no: 145 || Current FPS: 2.31 || Objects tracked: 7\n",
      "Processed frame no: 146 || Current FPS: 2.47 || Objects tracked: 7\n",
      "Processed frame no: 147 || Current FPS: 2.47 || Objects tracked: 7\n",
      "Processed frame no: 148 || Current FPS: 2.49 || Objects tracked: 7\n",
      "Processed frame no: 149 || Current FPS: 2.41 || Objects tracked: 7\n",
      "Processed frame no: 150 || Current FPS: 2.55 || Objects tracked: 7\n",
      "Processed frame no: 151 || Current FPS: 2.63 || Objects tracked: 7\n",
      "Processed frame no: 152 || Current FPS: 2.5 || Objects tracked: 7\n",
      "Processed frame no: 153 || Current FPS: 2.41 || Objects tracked: 7\n",
      "Processed frame no: 154 || Current FPS: 2.55 || Objects tracked: 7\n",
      "Processed frame no: 155 || Current FPS: 2.55 || Objects tracked: 6\n",
      "Processed frame no: 156 || Current FPS: 2.81 || Objects tracked: 6\n",
      "Processed frame no: 157 || Current FPS: 2.45 || Objects tracked: 6\n",
      "Processed frame no: 158 || Current FPS: 2.42 || Objects tracked: 6\n",
      "Processed frame no: 159 || Current FPS: 2.72 || Objects tracked: 6\n",
      "Processed frame no: 160 || Current FPS: 2.67 || Objects tracked: 6\n",
      "Processed frame no: 161 || Current FPS: 2.38 || Objects tracked: 7\n",
      "Processed frame no: 162 || Current FPS: 2.39 || Objects tracked: 6\n",
      "Processed frame no: 163 || Current FPS: 2.9 || Objects tracked: 6\n",
      "Processed frame no: 164 || Current FPS: 2.48 || Objects tracked: 6\n",
      "Processed frame no: 165 || Current FPS: 2.34 || Objects tracked: 6\n",
      "Processed frame no: 166 || Current FPS: 2.4 || Objects tracked: 7\n",
      "Processed frame no: 167 || Current FPS: 2.49 || Objects tracked: 7\n",
      "Processed frame no: 168 || Current FPS: 2.6 || Objects tracked: 6\n",
      "Processed frame no: 169 || Current FPS: 2.64 || Objects tracked: 6\n",
      "Processed frame no: 170 || Current FPS: 2.34 || Objects tracked: 6\n",
      "Processed frame no: 171 || Current FPS: 2.7 || Objects tracked: 6\n",
      "Processed frame no: 172 || Current FPS: 2.69 || Objects tracked: 6\n",
      "Processed frame no: 173 || Current FPS: 2.61 || Objects tracked: 6\n",
      "Processed frame no: 174 || Current FPS: 2.62 || Objects tracked: 6\n",
      "Processed frame no: 175 || Current FPS: 2.69 || Objects tracked: 6\n",
      "Processed frame no: 176 || Current FPS: 2.55 || Objects tracked: 6\n",
      "Processed frame no: 177 || Current FPS: 2.71 || Objects tracked: 6\n",
      "Processed frame no: 178 || Current FPS: 2.76 || Objects tracked: 6\n",
      "Processed frame no: 179 || Current FPS: 2.68 || Objects tracked: 6\n",
      "Processed frame no: 180 || Current FPS: 2.44 || Objects tracked: 6\n",
      "Processed frame no: 181 || Current FPS: 2.67 || Objects tracked: 6\n",
      "Processed frame no: 182 || Current FPS: 2.48 || Objects tracked: 6\n",
      "Processed frame no: 183 || Current FPS: 2.64 || Objects tracked: 6\n",
      "Processed frame no: 184 || Current FPS: 2.7 || Objects tracked: 6\n",
      "Processed frame no: 185 || Current FPS: 2.68 || Objects tracked: 6\n",
      "Processed frame no: 186 || Current FPS: 2.82 || Objects tracked: 6\n",
      "Processed frame no: 187 || Current FPS: 2.55 || Objects tracked: 6\n",
      "Processed frame no: 188 || Current FPS: 2.69 || Objects tracked: 6\n",
      "Processed frame no: 189 || Current FPS: 2.73 || Objects tracked: 6\n",
      "Processed frame no: 190 || Current FPS: 2.56 || Objects tracked: 6\n",
      "Processed frame no: 191 || Current FPS: 2.69 || Objects tracked: 6\n",
      "Processed frame no: 192 || Current FPS: 2.76 || Objects tracked: 6\n",
      "Processed frame no: 193 || Current FPS: 2.64 || Objects tracked: 7\n",
      "Processed frame no: 194 || Current FPS: 2.48 || Objects tracked: 7\n",
      "Processed frame no: 195 || Current FPS: 2.66 || Objects tracked: 7\n",
      "Processed frame no: 196 || Current FPS: 2.47 || Objects tracked: 7\n",
      "Processed frame no: 197 || Current FPS: 2.59 || Objects tracked: 6\n",
      "Processed frame no: 198 || Current FPS: 2.75 || Objects tracked: 6\n",
      "Processed frame no: 199 || Current FPS: 2.81 || Objects tracked: 6\n",
      "Processed frame no: 200 || Current FPS: 2.77 || Objects tracked: 6\n",
      "Video has ended or failed!\n"
     ]
    },
    {
     "ename": "",
     "evalue": "",
     "output_type": "error",
     "traceback": [
      "\u001b[1;31mThe Kernel crashed while executing code in the the current cell or a previous cell. Please review the code in the cell(s) to identify a possible cause of the failure. Click <a href='https://aka.ms/vscodeJupyterKernelCrash'>here</a> for more info. View Jupyter <a href='command:jupyter.viewOutput'>log</a> for further details."
     ]
    }
   ],
   "source": [
    "# Initialise  class that binds detector and tracker in one class\n",
    "tracker = YOLOv7_DeepSORT(reID_model_path=\"./deep_sort/model_weights/mars-small128.pb\", detector=detector)\n",
    "\n",
    "# output = None will not save the output video\n",
    "tracker.track_video(\"./IO_data/input/video/cctv3-2/CCTV_3_2.mp4\", output=\"./IO_data/output/street6.mp4\", show_live = False, skip_frames = 0, count_objects = True, verbose=1)"
   ]
  },
  {
   "cell_type": "markdown",
   "metadata": {},
   "source": []
  },
  {
   "cell_type": "markdown",
   "metadata": {},
   "source": []
  },
  {
   "cell_type": "markdown",
   "metadata": {
    "id": "hNsodM0wjOkU"
   },
   "source": [
    "## Scripts for handling Videos on `Colab / Jupyter Notebook`"
   ]
  },
  {
   "cell_type": "markdown",
   "metadata": {},
   "source": [
    "### Download a video from Youtube"
   ]
  },
  {
   "cell_type": "code",
   "execution_count": null,
   "metadata": {
    "id": "ho1q3C4IEGWL"
   },
   "outputs": [],
   "source": [
    "# ! pip install pytube\n",
    "from pytube import YouTube \n",
    "\n",
    "link = \"https://www.youtube.com/watch?v=kYIf8I1dvdo\"\n",
    "yt = YouTube(link)  \n",
    "\n",
    "try:\n",
    "    yt.streams.filter(progressive = True, file_extension = \"mp4\", resolution = \"720p\").first().download(output_path = \"./\", filename = \"test.mp4\",)\n",
    "except Exception as e: print(e)"
   ]
  },
  {
   "cell_type": "markdown",
   "metadata": {},
   "source": [
    "### Trim an existing video"
   ]
  },
  {
   "cell_type": "code",
   "execution_count": null,
   "metadata": {},
   "outputs": [],
   "source": [
    "# ! pip install moviepy\n",
    "from moviepy.video.io.ffmpeg_tools import ffmpeg_extract_subclip\n",
    "\n",
    "ffmpeg_extract_subclip(\"test.mp4\", 10, 100, targetname=\"trim.mp4\") # trim from 10th second to 100th second"
   ]
  },
  {
   "cell_type": "markdown",
   "metadata": {},
   "source": [
    "### Show an MP4 video Notebook"
   ]
  },
  {
   "cell_type": "code",
   "execution_count": null,
   "metadata": {},
   "outputs": [],
   "source": [
    "from base64 import b64encode\n",
    "\n",
    "mp4 = open('trim.mp4','rb').read()\n",
    "data_url = \"data:video/mp4;base64,\" + b64encode(mp4).decode()\n",
    "HTML(\"\"\"<video width=400 controls><source src=\"%s\" type=\"video/mp4\"></video>\"\"\" % data_url)"
   ]
  }
 ],
 "metadata": {
  "colab": {
   "collapsed_sections": [],
   "name": "DeepSORT",
   "provenance": []
  },
  "kernelspec": {
   "display_name": "Python 3.7.11 ('py37')",
   "language": "python",
   "name": "python3"
  },
  "language_info": {
   "codemirror_mode": {
    "name": "ipython",
    "version": 3
   },
   "file_extension": ".py",
   "mimetype": "text/x-python",
   "name": "python",
   "nbconvert_exporter": "python",
   "pygments_lexer": "ipython3",
   "version": "3.8.18"
  },
  "vscode": {
   "interpreter": {
    "hash": "cb8ede6e48f2442e28c0595893d2b9fa1cb763a73b1e5669a97c4ab5fc34a251"
   }
  }
 },
 "nbformat": 4,
 "nbformat_minor": 4
}
