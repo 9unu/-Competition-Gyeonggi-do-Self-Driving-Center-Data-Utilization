{
 "cells": [
  {
   "cell_type": "markdown",
   "metadata": {},
   "source": [
    "# 1. CCTV1 영상 분할"
   ]
  },
  {
   "cell_type": "code",
   "execution_count": null,
   "metadata": {},
   "outputs": [],
   "source": [
    "from moviepy.video.io.VideoFileClip import VideoFileClip\n",
    "\n",
    "def split_video(input_file, output_prefix, num_segments=90, segment_duration=10):\n",
    "    clip = VideoFileClip(input_file)\n",
    "    total_duration = clip.duration\n",
    "\n",
    "    if total_duration < num_segments * segment_duration:\n",
    "        print(\"Error: 주어진 개수만큼의 영상으로 나눌 수 없습니다.\")\n",
    "        return\n",
    "\n",
    "    for i in range(num_segments):\n",
    "        start_time = i * segment_duration\n",
    "        end_time = (i + 1) * segment_duration\n",
    "        if end_time > total_duration:\n",
    "            end_time = total_duration\n",
    "\n",
    "        segment = clip.subclip(start_time, end_time)\n",
    "        output_file = f\"{output_prefix}_1_{i+1}.mp4\"\n",
    "        segment.write_videofile(output_file, codec=\"libx264\", audio_codec=\"aac\")\n",
    "\n",
    "    clip.close()"
   ]
  },
  {
   "cell_type": "code",
   "execution_count": null,
   "metadata": {},
   "outputs": [],
   "source": [
    "input_video = \"CCTV1.mp4\"\n",
    "output_prefix = \"CCTV\"  \n",
    "\n",
    "split_video(input_video, output_prefix)"
   ]
  },
  {
   "cell_type": "markdown",
   "metadata": {},
   "source": [
    "# 2. CCTV2 영상 분할"
   ]
  },
  {
   "cell_type": "code",
   "execution_count": null,
   "metadata": {},
   "outputs": [],
   "source": [
    "from moviepy.video.io.VideoFileClip import VideoFileClip\n",
    "\n",
    "def split_video(input_file, output_prefix, num_segments=90, segment_duration=10):\n",
    "    clip = VideoFileClip(input_file)\n",
    "    total_duration = clip.duration\n",
    "\n",
    "    if total_duration < num_segments * segment_duration:\n",
    "        print(\"Error: 주어진 개수만큼의 영상으로 나눌 수 없습니다.\")\n",
    "        return\n",
    "\n",
    "    for i in range(num_segments):\n",
    "        start_time = i * segment_duration\n",
    "        end_time = (i + 1) * segment_duration\n",
    "        if end_time > total_duration:\n",
    "            end_time = total_duration\n",
    "\n",
    "        segment = clip.subclip(start_time, end_time)\n",
    "        output_file = f\"{output_prefix}_2_{i+1}.mp4\"\n",
    "        segment.write_videofile(output_file, codec=\"libx264\", audio_codec=\"aac\")\n",
    "\n",
    "    clip.close()"
   ]
  },
  {
   "cell_type": "code",
   "execution_count": null,
   "metadata": {},
   "outputs": [],
   "source": [
    "input_video = \"CCTV2.mp4\"\n",
    "output_prefix = \"CCTV\"  \n",
    "\n",
    "split_video(input_video, output_prefix)"
   ]
  },
  {
   "cell_type": "markdown",
   "metadata": {},
   "source": [
    "# 3. CCTV3 영상 분할"
   ]
  },
  {
   "cell_type": "code",
   "execution_count": null,
   "metadata": {},
   "outputs": [],
   "source": [
    "from moviepy.video.io.VideoFileClip import VideoFileClip\n",
    "\n",
    "def split_video(input_file, output_prefix, num_segments=90, segment_duration=10):\n",
    "    clip = VideoFileClip(input_file)\n",
    "    total_duration = clip.duration\n",
    "\n",
    "    if total_duration < num_segments * segment_duration:\n",
    "        print(\"Error: 주어진 개수만큼의 영상으로 나눌 수 없습니다.\")\n",
    "        return\n",
    "    \n",
    "    for i in range(num_segments):\n",
    "        start_time = i * segment_duration\n",
    "        end_time = (i + 1) * segment_duration\n",
    "        if end_time > total_duration:\n",
    "            end_time = total_duration\n",
    "\n",
    "        segment = clip.subclip(start_time, end_time)\n",
    "        output_file = f\"{output_prefix}_3_{i+1}.mp4\"\n",
    "        segment.write_videofile(output_file, codec=\"libx264\", audio_codec=\"aac\")\n",
    "\n",
    "    clip.close()"
   ]
  },
  {
   "cell_type": "code",
   "execution_count": null,
   "metadata": {},
   "outputs": [],
   "source": [
    "input_video = \"CCTV3.mp4\"\n",
    "output_prefix = \"CCTV\"  \n",
    "\n",
    "split_video(input_video, output_prefix)"
   ]
  }
 ],
 "metadata": {
  "kernelspec": {
   "display_name": "Python 3",
   "language": "python",
   "name": "python3"
  },
  "language_info": {
   "codemirror_mode": {
    "name": "ipython",
    "version": 3
   },
   "file_extension": ".py",
   "mimetype": "text/x-python",
   "name": "python",
   "nbconvert_exporter": "python",
   "pygments_lexer": "ipython3",
   "version": "3.11.6"
  }
 },
 "nbformat": 4,
 "nbformat_minor": 2
}
